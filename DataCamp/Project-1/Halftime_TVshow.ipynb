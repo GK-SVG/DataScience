{
 "cells": [
  {
   "cell_type": "markdown",
   "metadata": {},
   "source": [
    "# 1. TV, halftime shows, and the Big Game\n",
    "Whether or not you like football, the Super Bowl is a spectacle. There's a little something for everyone at your Super Bowl party. Drama in the form of blowouts, comebacks, and controversy for the sports fan. There are the ridiculously expensive ads, some hilarious, others gut-wrenching, thought-provoking, and weird. The half-time shows with the biggest musicians in the world, sometimes riding giant mechanical tigers or leaping from the roof of the stadium. It's a show, baby. And in this notebook, we're going to find out how some of the elements of this show interact with each other. After exploring and cleaning our data a little, we're going to answer questions like:\n",
    "![title](https://assets.datacamp.com/production/project_684/img/left_shark.jpg)\n",
    "What are the most extreme game outcomes?\n",
    "How does the game affect television viewership?\n",
    "How have viewership, TV ratings, and ad cost evolved over time?\n",
    "Who are the most prolific musicians in terms of halftime show performances?\n",
    "Left Shark Steals The ShowLeft Shark Steals The Show. Katy Perry performing at halftime of Super Bowl XLIX. Photo by Huntley Paton. Attribution-ShareAlike 2.0 Generic (CC BY-SA 2.0).\n",
    "\n",
    "The dataset we'll use was scraped and polished from Wikipedia. It is made up of three CSV files, one with game data, one with TV data, and one with halftime musician data for all 52 Super Bowls through 2018. Let's take a look, using display() instead of print() since its output is much prettier in Jupyter Notebooks."
   ]
  },
  {
   "cell_type": "code",
   "execution_count": 2,
   "metadata": {},
   "outputs": [],
   "source": [
    "# Import pandas\n",
    "import pandas as pd\n",
    "\n",
    "# Load the CSV data into DataFrames\n",
    "super_bowls = pd.read_csv('datasets/super_bowls.csv')\n",
    "tv = pd.read_csv('datasets/tv.csv')\n",
    "halftime_musicians = pd.read_csv('datasets/halftime_musicians.csv')\n",
    "\n",
    "# Display the first five rows of each DataFrame\n",
    "display(super_bowls.head())\n",
    "display(tv.head())\n",
    "display(halftime_musicians.head())"
   ]
  },
  {
   "cell_type": "markdown",
   "metadata": {},
   "source": [
    "# 2. Taking note of dataset issues\n",
    "For the Super Bowl game data, we can see the dataset appears whole except for missing values in the backup quarterback columns (qb_winner_2 and qb_loser_2), which make sense given most starting QBs in the Super Bowl (qb_winner_1 and qb_loser_1) play the entire game.\n",
    "\n",
    "From the visual inspection of TV and halftime musicians data, there is only one missing value displayed, but I've got a hunch there are more. The Super Bowl goes all the way back to 1967, and the more granular columns (e.g. the number of songs for halftime musicians) probably weren't tracked reliably over time. Wikipedia is great but not perfect.\n",
    "\n",
    "An inspection of the .info() output for tv and halftime_musicians shows us that there are multiple columns with null values."
   ]
  },
  {
   "cell_type": "code",
   "execution_count": null,
   "metadata": {},
   "outputs": [],
   "source": [
    "# Import pandas\n",
    "import pandas as pd\n",
    "\n",
    "# Load the CSV data into DataFrames\n",
    "super_bowls = pd.read_csv('datasets/super_bowls.csv')\n",
    "tv = pd.read_csv('datasets/tv.csv')\n",
    "halftime_musicians = pd.read_csv('datasets/halftime_musicians.csv')\n",
    "\n",
    "# Summary of the TV data to inspect\n",
    "tv.info()\n",
    "\n",
    "print('\\n')\n",
    "# Summary of the halftime musician data to inspect\n",
    "halftime_musicians.info()"
   ]
  },
  {
   "cell_type": "markdown",
   "metadata": {},
   "source": [
    "# 3. Combined points distribution\n",
    "For the TV data, the following columns have missing values and a lot of them:\n",
    "\n",
    "total_us_viewers (amount of U.S. viewers who watched at least some part of the broadcast)\n",
    "rating_18_49 (average % of U.S. adults 18-49 who live in a household with a TV that were watching for the entire broadcast)\n",
    "share_18_49 (average % of U.S. adults 18-49 who live in a household with a TV in use that were watching for the entire broadcast)\n",
    "For the halftime musician data, there are missing numbers of songs performed (num_songs) for about a third of the performances.\n",
    "\n",
    "There are a lot of potential reasons for these missing values. Was the data ever tracked? Was it lost in history? Is the research effort to make this data whole worth it? Maybe. Watching every Super Bowl halftime show to get song counts would be pretty fun. But we don't have the time to do that kind of stuff now! Let's take note of where the dataset isn't perfect and start uncovering some insights.\n",
    "\n",
    "Let's start by looking at combined points for each Super Bowl by visualizing the distribution. Let's also pinpoint the Super Bowls with the highest and lowest scores."
   ]
  },
  {
   "cell_type": "code",
   "execution_count": null,
   "metadata": {},
   "outputs": [],
   "source": [
    "# Import matplotlib and set plotting style\n",
    "from matplotlib import pyplot as plt\n",
    "%matplotlib inline\n",
    "plt.style.use('seaborn')\n",
    "\n",
    "# Import pandas\n",
    "import pandas as pd\n",
    "\n",
    "# Load the CSV data into DataFrames\n",
    "super_bowls = pd.read_csv('datasets/super_bowls.csv')\n",
    "# Plot a histogram of combined points\n",
    "plt.hist(super_bowls[\"combined_pts\"])\n",
    "# ... YOUR CODE FOR TASK 3 ...\n",
    "plt.xlabel('Combined Points')\n",
    "plt.ylabel('Number of Super Bowls')\n",
    "plt.show()\n",
    "\n",
    "# Display the Super Bowls with the highest and lowest combined scores\n",
    "display(super_bowls[super_bowls['combined_pts'] > 70])\n",
    "display(super_bowls[super_bowls['combined_pts']<25])"
   ]
  },
  {
   "cell_type": "markdown",
   "metadata": {},
   "source": [
    "# 4. Point difference distribution\n",
    "Most combined scores are around 40-50 points, with the extremes being roughly equal distance away in opposite directions. Going up to the highest combined scores at 74 and 75, we find two games featuring dominant quarterback performances. One even happened recently in 2018's Super Bowl LII where Tom Brady's Patriots lost to Nick Foles' underdog Eagles 41-33 for a combined score of 74.\n",
    "\n",
    "Going down to the lowest combined scores, we have Super Bowl III and VII, which featured tough defenses that dominated. We also have Super Bowl IX in New Orleans in 1975, whose 16-6 score can be attributed to inclement weather. The field was slick from overnight rain, and it was cold at 46 °F (8 °C), making it hard for the Steelers and Vikings to do much offensively. This was the second-coldest Super Bowl ever and the last to be played in inclement weather for over 30 years. The NFL realized people like points, I guess.\n",
    "\n",
    "UPDATE: In Super Bowl LIII in 2019, the Patriots and Rams broke the record for the lowest-scoring Super Bowl with a combined score of 16 points (13-3 for the Patriots).\n",
    "\n",
    "Let's take a look at point difference now."
   ]
  },
  {
   "cell_type": "code",
   "execution_count": null,
   "metadata": {},
   "outputs": [],
   "source": [
    "# Plot a histogram of point differences\n",
    "plt.hist(super_bowls.difference_pts)\n",
    "plt.xlabel('Point Difference')\n",
    "plt.ylabel('Number of Super Bowls')\n",
    "plt.show()\n",
    "\n",
    "# Display the closest game(s) and biggest blowouts\n",
    "display(super_bowls[super_bowls['difference_pts'] == 1])\n",
    "display(super_bowls[super_bowls['difference_pts'] >= 35])"
   ]
  }
 ],
 "metadata": {
  "kernelspec": {
   "display_name": "Python 3",
   "language": "python",
   "name": "python3"
  },
  "language_info": {
   "codemirror_mode": {
    "name": "ipython",
    "version": 3
   },
   "file_extension": ".py",
   "mimetype": "text/x-python",
   "name": "python",
   "nbconvert_exporter": "python",
   "pygments_lexer": "ipython3",
   "version": "3.7.6"
  }
 },
 "nbformat": 4,
 "nbformat_minor": 4
}
